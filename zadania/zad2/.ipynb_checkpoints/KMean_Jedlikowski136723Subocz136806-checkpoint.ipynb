{
 "cells": [
  {
   "cell_type": "code",
   "execution_count": 1,
   "metadata": {},
   "outputs": [],
   "source": [
    "import numpy as np\n"
   ]
  },
  {
   "cell_type": "code",
   "execution_count": 5,
   "metadata": {},
   "outputs": [],
   "source": [
    "data = np.array([\n",
    "    [1, 1],\n",
    "    [1.5, 2],\n",
    "    [3, 3],\n",
    "    [5, 7],\n",
    "    [3.5, 5]\n",
    "])"
   ]
  },
  {
   "cell_type": "code",
   "execution_count": 67,
   "metadata": {},
   "outputs": [],
   "source": [
    "def kMeans(data, k=2, maxIteration=100, epsilon=0.0001):\n",
    "    \n",
    "    #select centroids\n",
    "    minC = np.min(data)\n",
    "    maxC = np.max(data)\n",
    "    centroids = np.zeros( (k, data.shape[1]) )\n",
    "    for i in range(len(centroids)):\n",
    "        centroids[i] = np.random.uniform(low=minC, high=maxC, size=(data.shape[1],))\n",
    "    print(centroids)\n",
    "    \n",
    "    for epoch in range(maxIteration):        \n",
    "        #iterattion of k-means\n",
    "        clusterList = np.zeros(len(data))\n",
    "        for iRow, row in enumerate(data):\n",
    "            minDist = np.inf\n",
    "            cluster = 0\n",
    "            for i,centroid in enumerate(centroids):\n",
    "                dist = np.linalg.norm(row-centroid)\n",
    "                if dist < minDist:\n",
    "                    minDist = dist\n",
    "                    cluster = i\n",
    "            clusterList[iRow] = cluster\n",
    "            \n",
    "        #calc new centroids\n",
    "        clusterList = np.array(clusterList)\n",
    "        doBreak = True\n",
    "        for i in range(len(centroids)):\n",
    "            newValue  = np.mean(data[clusterList==i], axis=0)                   \n",
    "            if (np.abs(newValue - centroids[i]) > epsilon).any():\n",
    "                doBreak = False\n",
    "            centroids[i] = newValue\n",
    "        if doBreak:\n",
    "            print(\"Change smaller than epsilon: break\")\n",
    "            break\n",
    "    print(f\"Performed {epoch} iteration of kMeans\")\n",
    "    return clusterList, centroids\n",
    "         \n",
    "            \n",
    "        "
   ]
  },
  {
   "cell_type": "code",
   "execution_count": 68,
   "metadata": {},
   "outputs": [
    {
     "name": "stdout",
     "output_type": "stream",
     "text": [
      "[[4.82832875 2.1921107 ]\n",
      " [6.7549106  5.45894048]]\n",
      "[[4.82832875 2.1921107 ]\n",
      " [6.7549106  5.45894048]]\n",
      "[0. 0. 0. 1. 0.]\n",
      "[[2.25 2.75]\n",
      " [5.   7.  ]]\n",
      "[0. 0. 0. 1. 1.]\n",
      "[[1.83333333 2.        ]\n",
      " [4.25       6.        ]]\n",
      "[0. 0. 0. 1. 1.]\n",
      "Change smaller than epsilon: break\n",
      "Performed 2 iteration of kMeans\n"
     ]
    },
    {
     "data": {
      "text/plain": [
       "(array([0., 0., 0., 1., 1.]), array([[1.83333333, 2.        ],\n",
       "        [4.25      , 6.        ]]))"
      ]
     },
     "execution_count": 68,
     "metadata": {},
     "output_type": "execute_result"
    }
   ],
   "source": [
    "kMeans(data)"
   ]
  },
  {
   "cell_type": "code",
   "execution_count": 14,
   "metadata": {},
   "outputs": [
    {
     "ename": "NameError",
     "evalue": "name 'clusterList' is not defined",
     "output_type": "error",
     "traceback": [
      "\u001b[0;31m---------------------------------------------------------------------------\u001b[0m",
      "\u001b[0;31mNameError\u001b[0m                                 Traceback (most recent call last)",
      "\u001b[0;32m<ipython-input-14-9fd9cf560122>\u001b[0m in \u001b[0;36m<module>\u001b[0;34m\u001b[0m\n\u001b[0;32m----> 1\u001b[0;31m \u001b[0mclusterList\u001b[0m\u001b[0;34m\u001b[0m\u001b[0;34m\u001b[0m\u001b[0m\n\u001b[0m",
      "\u001b[0;31mNameError\u001b[0m: name 'clusterList' is not defined"
     ]
    }
   ],
   "source": []
  },
  {
   "cell_type": "code",
   "execution_count": 54,
   "metadata": {},
   "outputs": [
    {
     "data": {
      "text/plain": [
       "array([6.91437722, 7.00477334])"
      ]
     },
     "execution_count": 54,
     "metadata": {},
     "output_type": "execute_result"
    }
   ],
   "source": [
    "np.random.uniform(low=0.5, high=13.3, size=(2,))"
   ]
  },
  {
   "cell_type": "code",
   "execution_count": null,
   "metadata": {},
   "outputs": [],
   "source": []
  }
 ],
 "metadata": {
  "kernelspec": {
   "display_name": "Python 3",
   "language": "python",
   "name": "python3"
  },
  "language_info": {
   "codemirror_mode": {
    "name": "ipython",
    "version": 3
   },
   "file_extension": ".py",
   "mimetype": "text/x-python",
   "name": "python",
   "nbconvert_exporter": "python",
   "pygments_lexer": "ipython3",
   "version": "3.6.9"
  }
 },
 "nbformat": 4,
 "nbformat_minor": 2
}

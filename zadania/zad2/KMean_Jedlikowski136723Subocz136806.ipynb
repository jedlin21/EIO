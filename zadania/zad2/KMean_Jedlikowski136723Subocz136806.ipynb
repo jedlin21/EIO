{
 "cells": [
  {
   "cell_type": "code",
   "execution_count": 131,
   "metadata": {},
   "outputs": [],
   "source": [
    "import numpy as np\n",
    "import pandas as pd\n",
    "\n",
    "import itertools\n",
    "from scipy.spatial.distance import pdist"
   ]
  },
  {
   "cell_type": "code",
   "execution_count": 84,
   "metadata": {},
   "outputs": [],
   "source": [
    "data1 = np.array([\n",
    "    [1, 1],\n",
    "    [1.5, 2],\n",
    "    [3, 3],\n",
    "    [5, 7],\n",
    "    [3.5, 5]\n",
    "])"
   ]
  },
  {
   "cell_type": "code",
   "execution_count": 138,
   "metadata": {},
   "outputs": [],
   "source": [
    "def kMeans(data, k=2, maxIteration=100, epsilon=0.0001, randomCentroid=False):\n",
    "    \n",
    "    #select centroids\n",
    "    if randomCentroid:\n",
    "        minC = np.min(data)\n",
    "        maxC = np.max(data)\n",
    "        centroids = np.zeros( (k, data.shape[1]) )\n",
    "        for i in range(len(centroids)):\n",
    "            centroids[i] = np.random.uniform(low=minC, high=maxC, size=(data.shape[1],))\n",
    "    else:\n",
    "        Npoints = k\n",
    "        c = [list(x) for x in itertools.combinations(range(len(data)), Npoints )]\n",
    "        distances = []\n",
    "        for i in c:    \n",
    "            distances.append(np.mean(pdist(data[i,:]))) # pdist: a method of computing all pairwise Euclidean distances in a condensed way.\n",
    "\n",
    "        ind = distances.index(max(distances)) # finding the index of the max mean distance\n",
    "        rows = c[ind] # these are the points in question\n",
    "        centroids = data[rows]\n",
    "    print(centroids)\n",
    "    \n",
    "    for epoch in range(maxIteration):        \n",
    "        #iterattion of k-means\n",
    "        clusterList = np.zeros(len(data))\n",
    "        for iRow, row in enumerate(data):\n",
    "            minDist = np.inf\n",
    "            cluster = 0\n",
    "            for i,centroid in enumerate(centroids):\n",
    "                dist = np.linalg.norm(row-centroid)\n",
    "                if dist < minDist:\n",
    "                    minDist = dist\n",
    "                    cluster = i\n",
    "            clusterList[iRow] = cluster\n",
    "            \n",
    "        #calc new centroids\n",
    "        clusterList = np.array(clusterList)\n",
    "        doBreak = True\n",
    "        for i in range(len(centroids)):\n",
    "            newValue  = np.mean(data[clusterList==i], axis=0)                   \n",
    "            if (clusterList==i).any():\n",
    "              #  print(f\"data[clusterList==i] {data[clusterList==i]}\")\n",
    "              #  print(f\"newValue: {newValue}\")\n",
    "                if (np.abs(newValue - centroids[i]) > epsilon).any():\n",
    "                    doBreak = False\n",
    "                centroids[i] = newValue\n",
    "        if doBreak:\n",
    "            print(\"Change smaller than epsilon: break\")\n",
    "            break\n",
    "    print(f\"Performed {epoch} iteration of kMeans\")\n",
    "    return clusterList, centroids\n",
    "         \n",
    "            \n",
    "        "
   ]
  },
  {
   "cell_type": "code",
   "execution_count": 139,
   "metadata": {},
   "outputs": [
    {
     "name": "stdout",
     "output_type": "stream",
     "text": [
      "[[1. 1.]\n",
      " [5. 7.]]\n",
      "Change smaller than epsilon: break\n",
      "Performed 1 iteration of kMeans\n"
     ]
    },
    {
     "data": {
      "text/plain": [
       "(array([0., 0., 0., 1., 1.]), array([[1.83333333, 2.        ],\n",
       "        [4.25      , 6.        ]]))"
      ]
     },
     "execution_count": 139,
     "metadata": {},
     "output_type": "execute_result"
    }
   ],
   "source": [
    "kMeans(data1)"
   ]
  },
  {
   "cell_type": "code",
   "execution_count": 140,
   "metadata": {},
   "outputs": [
    {
     "data": {
      "text/html": [
       "<div>\n",
       "<style scoped>\n",
       "    .dataframe tbody tr th:only-of-type {\n",
       "        vertical-align: middle;\n",
       "    }\n",
       "\n",
       "    .dataframe tbody tr th {\n",
       "        vertical-align: top;\n",
       "    }\n",
       "\n",
       "    .dataframe thead th {\n",
       "        text-align: right;\n",
       "    }\n",
       "</style>\n",
       "<table border=\"1\" class=\"dataframe\">\n",
       "  <thead>\n",
       "    <tr style=\"text-align: right;\">\n",
       "      <th></th>\n",
       "      <th>calories</th>\n",
       "      <th>protein</th>\n",
       "      <th>fat</th>\n",
       "      <th>sodium</th>\n",
       "      <th>fiber</th>\n",
       "      <th>carbo</th>\n",
       "      <th>sugars</th>\n",
       "      <th>potass</th>\n",
       "      <th>vitamins</th>\n",
       "      <th>shelf</th>\n",
       "      <th>weight</th>\n",
       "      <th>cups</th>\n",
       "      <th>rating</th>\n",
       "    </tr>\n",
       "  </thead>\n",
       "  <tbody>\n",
       "    <tr>\n",
       "      <th>0</th>\n",
       "      <td>70</td>\n",
       "      <td>4</td>\n",
       "      <td>1</td>\n",
       "      <td>130</td>\n",
       "      <td>10.0</td>\n",
       "      <td>5.0</td>\n",
       "      <td>6</td>\n",
       "      <td>280</td>\n",
       "      <td>25</td>\n",
       "      <td>3</td>\n",
       "      <td>1.0</td>\n",
       "      <td>0.33</td>\n",
       "      <td>68.402973</td>\n",
       "    </tr>\n",
       "    <tr>\n",
       "      <th>1</th>\n",
       "      <td>120</td>\n",
       "      <td>3</td>\n",
       "      <td>5</td>\n",
       "      <td>15</td>\n",
       "      <td>2.0</td>\n",
       "      <td>8.0</td>\n",
       "      <td>8</td>\n",
       "      <td>135</td>\n",
       "      <td>0</td>\n",
       "      <td>3</td>\n",
       "      <td>1.0</td>\n",
       "      <td>1.00</td>\n",
       "      <td>33.983679</td>\n",
       "    </tr>\n",
       "    <tr>\n",
       "      <th>2</th>\n",
       "      <td>70</td>\n",
       "      <td>4</td>\n",
       "      <td>1</td>\n",
       "      <td>260</td>\n",
       "      <td>9.0</td>\n",
       "      <td>7.0</td>\n",
       "      <td>5</td>\n",
       "      <td>320</td>\n",
       "      <td>25</td>\n",
       "      <td>3</td>\n",
       "      <td>1.0</td>\n",
       "      <td>0.33</td>\n",
       "      <td>59.425505</td>\n",
       "    </tr>\n",
       "    <tr>\n",
       "      <th>3</th>\n",
       "      <td>50</td>\n",
       "      <td>4</td>\n",
       "      <td>0</td>\n",
       "      <td>140</td>\n",
       "      <td>14.0</td>\n",
       "      <td>8.0</td>\n",
       "      <td>0</td>\n",
       "      <td>330</td>\n",
       "      <td>25</td>\n",
       "      <td>3</td>\n",
       "      <td>1.0</td>\n",
       "      <td>0.50</td>\n",
       "      <td>93.704912</td>\n",
       "    </tr>\n",
       "    <tr>\n",
       "      <th>4</th>\n",
       "      <td>110</td>\n",
       "      <td>2</td>\n",
       "      <td>2</td>\n",
       "      <td>200</td>\n",
       "      <td>1.0</td>\n",
       "      <td>14.0</td>\n",
       "      <td>8</td>\n",
       "      <td>-1</td>\n",
       "      <td>25</td>\n",
       "      <td>3</td>\n",
       "      <td>1.0</td>\n",
       "      <td>0.75</td>\n",
       "      <td>34.384843</td>\n",
       "    </tr>\n",
       "  </tbody>\n",
       "</table>\n",
       "</div>"
      ],
      "text/plain": [
       "   calories  protein  fat  sodium  fiber  carbo  sugars  potass  vitamins  \\\n",
       "0        70        4    1     130   10.0    5.0       6     280        25   \n",
       "1       120        3    5      15    2.0    8.0       8     135         0   \n",
       "2        70        4    1     260    9.0    7.0       5     320        25   \n",
       "3        50        4    0     140   14.0    8.0       0     330        25   \n",
       "4       110        2    2     200    1.0   14.0       8      -1        25   \n",
       "\n",
       "   shelf  weight  cups     rating  \n",
       "0      3     1.0  0.33  68.402973  \n",
       "1      3     1.0  1.00  33.983679  \n",
       "2      3     1.0  0.33  59.425505  \n",
       "3      3     1.0  0.50  93.704912  \n",
       "4      3     1.0  0.75  34.384843  "
      ]
     },
     "execution_count": 140,
     "metadata": {},
     "output_type": "execute_result"
    }
   ],
   "source": [
    "data = pd.read_csv(\"cereal.csv\")\n",
    "\n",
    "data = data.drop(columns=[\"name\", \"mfr\", \"type\"])\n",
    "data.head()"
   ]
  },
  {
   "cell_type": "code",
   "execution_count": 141,
   "metadata": {},
   "outputs": [],
   "source": [
    "x = data.to_numpy()"
   ]
  },
  {
   "cell_type": "code",
   "execution_count": 143,
   "metadata": {},
   "outputs": [
    {
     "name": "stdout",
     "output_type": "stream",
     "text": [
      "[[ 50.         4.         0.       140.        14.         8.\n",
      "    0.       330.        25.         3.         1.         0.5\n",
      "   93.704912]\n",
      " [100.         3.         0.       320.         1.        20.\n",
      "    3.        45.       100.         3.         1.         1.\n",
      "   41.50354 ]\n",
      " [ 50.         1.         0.         0.         0.        13.\n",
      "    0.        15.         0.         3.         0.5        1.\n",
      "   60.756112]]\n",
      "Change smaller than epsilon: break\n",
      "Performed 4 iteration of kMeans\n"
     ]
    },
    {
     "data": {
      "text/plain": [
       "(array([0., 2., 0., 0., 1., 1., 1., 1., 1., 0., 1., 1., 1., 1., 1., 1., 1.,\n",
       "        2., 1., 0., 2., 1., 1., 1., 1., 1., 2., 0., 0., 1., 2., 1., 1., 1.,\n",
       "        2., 1., 1., 1., 1., 1., 1., 1., 1., 2., 0., 0., 0., 1., 1., 1., 1.,\n",
       "        1., 0., 1., 2., 2., 1., 2., 0., 0., 2., 1., 1., 2., 2., 2., 2., 1.,\n",
       "        2., 1., 0., 1., 1., 1., 1., 1., 1.]),\n",
       " array([[112.14285714,   3.35714286,   1.42857143, 172.5       ,\n",
       "           5.60714286,  12.03571429,   9.14285714, 217.14285714,\n",
       "          30.35714286,   2.92857143,   1.16      ,   0.66142857,\n",
       "          46.01531921],\n",
       "        [109.78723404,   2.29787234,   0.9787234 , 201.91489362,\n",
       "           1.22340426,  15.81914894,   7.04255319,  65.93617021,\n",
       "          32.9787234 ,   2.06382979,   1.02574468,   0.86574468,\n",
       "          37.79694366],\n",
       "        [ 93.75      ,   2.5625    ,   0.75      ,  24.375     ,\n",
       "           1.85625   ,  13.25      ,   4.625     ,  78.6875    ,\n",
       "          12.5       ,   2.        ,   0.926875  ,   0.829375  ,\n",
       "          54.03677894]]))"
      ]
     },
     "execution_count": 143,
     "metadata": {},
     "output_type": "execute_result"
    }
   ],
   "source": [
    "kMeans(x, k=3)"
   ]
  },
  {
   "cell_type": "code",
   "execution_count": 81,
   "metadata": {},
   "outputs": [
    {
     "data": {
      "text/plain": [
       "(77, 13)"
      ]
     },
     "execution_count": 81,
     "metadata": {},
     "output_type": "execute_result"
    }
   ],
   "source": [
    "x.shape"
   ]
  },
  {
   "cell_type": "code",
   "execution_count": 107,
   "metadata": {},
   "outputs": [],
   "source": []
  },
  {
   "cell_type": "code",
   "execution_count": 114,
   "metadata": {},
   "outputs": [
    {
     "data": {
      "text/plain": [
       "False"
      ]
     },
     "execution_count": 114,
     "metadata": {},
     "output_type": "execute_result"
    }
   ],
   "source": []
  },
  {
   "cell_type": "code",
   "execution_count": 92,
   "metadata": {},
   "outputs": [],
   "source": [
    "x = np.array([1,2])\n",
    "y = np.array([1,5])"
   ]
  },
  {
   "cell_type": "code",
   "execution_count": 93,
   "metadata": {},
   "outputs": [
    {
     "data": {
      "text/plain": [
       "3.0"
      ]
     },
     "execution_count": 93,
     "metadata": {},
     "output_type": "execute_result"
    }
   ],
   "source": [
    "np.linalg.norm(x-y)"
   ]
  },
  {
   "cell_type": "code",
   "execution_count": 132,
   "metadata": {},
   "outputs": [],
   "source": [
    "Npoints = 3\n",
    "# making up some data:\n",
    "data = x\n",
    "# finding row indices of all combinations:\n",
    "c = [list(x) for x in itertools.combinations(range(len(data)), Npoints )]\n",
    "\n",
    "distances = []\n",
    "for i in c:    \n",
    "    distances.append(np.mean(pdist(data[i,:]))) # pdist: a method of computing all pairwise Euclidean distances in a condensed way.\n",
    "\n",
    "ind = distances.index(max(distances)) # finding the index of the max mean distance\n",
    "rows = c[ind] # these are the points in question"
   ]
  },
  {
   "cell_type": "code",
   "execution_count": 133,
   "metadata": {},
   "outputs": [
    {
     "data": {
      "text/plain": [
       "[3, 53, 54]"
      ]
     },
     "execution_count": 133,
     "metadata": {},
     "output_type": "execute_result"
    }
   ],
   "source": [
    "rows"
   ]
  },
  {
   "cell_type": "code",
   "execution_count": null,
   "metadata": {},
   "outputs": [],
   "source": []
  }
 ],
 "metadata": {
  "kernelspec": {
   "display_name": "Python 3",
   "language": "python",
   "name": "python3"
  },
  "language_info": {
   "codemirror_mode": {
    "name": "ipython",
    "version": 3
   },
   "file_extension": ".py",
   "mimetype": "text/x-python",
   "name": "python",
   "nbconvert_exporter": "python",
   "pygments_lexer": "ipython3",
   "version": "3.6.9"
  }
 },
 "nbformat": 4,
 "nbformat_minor": 2
}
